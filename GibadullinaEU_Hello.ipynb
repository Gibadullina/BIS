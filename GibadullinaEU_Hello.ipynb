{
  "nbformat": 4,
  "nbformat_minor": 0,
  "metadata": {
    "colab": {
      "name": "GibadullinaEU-Hello.ipynb",
      "provenance": [],
      "collapsed_sections": []
    },
    "kernelspec": {
      "name": "python3",
      "display_name": "Python 3"
    },
    "language_info": {
      "name": "python"
    }
  },
  "cells": [
    {
      "cell_type": "markdown",
      "source": [
        "#Первая программа на суперкомпьютере"
      ],
      "metadata": {
        "id": "G8RwP9YlJ_S3"
      }
    },
    {
      "cell_type": "code",
      "source": [
        "print(\"Hello, World!\")"
      ],
      "metadata": {
        "colab": {
          "base_uri": "https://localhost:8080/"
        },
        "id": "_OaA-e92J1RQ",
        "outputId": "118e52fd-3fb7-4dd0-fe14-5862acbc3697"
      },
      "execution_count": 1,
      "outputs": [
        {
          "output_type": "stream",
          "name": "stdout",
          "text": [
            "Hello, World!\n"
          ]
        }
      ]
    },
    {
      "cell_type": "markdown",
      "source": [
        "Выполнила: Гибадуллина Э.Ю."
      ],
      "metadata": {
        "id": "sy7xyLPLKSA5"
      }
    }
  ]
}